{
 "cells": [
  {
   "cell_type": "markdown",
   "metadata": {},
   "source": [
    "Prove that for integers $a,\\;b,\\;\\dots$\n",
    "\n",
    "(1) $(a, b) = 1, \\; c | a, \\; d | a \\implies (c, d) = 1$\n",
    "\n",
    "(2) $(a, b) = (a, c) = 1 \\implies (a, bc) = 1$\n",
    "\n",
    "(3) $(a, b) = 1 \\implies (a^n, b^k) = 1 \\; \\; \\forall \\; \\; n \\ge 1, k \\ge 1$\n",
    "\n",
    "(4) $(a, b) = 1 \\implies (a + b, a - b) = 1 \\; or \\; 2$\n",
    "\n",
    "(5) $(a, b) = 1 \\implies (a + b, a^2 - ab + b^2) = 1 \\; or \\; 3$\n",
    "\n",
    "(6) $(a, b) = 1, \\; d|(a + b) \\implies (a, d) = (b, d) = 1$"
   ]
  },
  {
   "cell_type": "markdown",
   "metadata": {},
   "source": [
    "(7) A rational number $a/b$ with $(a, b) = 1$ is a *reduced fraction*. If the sum of two \n",
    "reduced fractions is an integer, say $(a/b) + (c/d) = n$, prove that $|b| = |d|$.\n",
    "\n",
    "(8) An integer is called *squarefree* if it is not divisible by the square of any prime. Prove that \n",
    "for every $n \\ge 1$ there exist uniquely determined $a > 0$ and $b > 0$ such that $n=a^2b$, where $b$ is *squarefree*."
   ]
  },
  {
   "cell_type": "markdown",
   "metadata": {},
   "source": [
    "...\n",
    "\n",
    "(11) Prove that $n^4 + 4$ is composite if $n > 1$. \n",
    "\n",
    "***Solution***\n",
    "\n",
    "I first tried cases for the ones-digit. For example $n$ even gives $n^4 + 4$ also even and $n$ ending in 1, 3, 7 or 9 gives $n^4 + 4$ ending in 5. \n",
    "However (particularly because the last case does not resolve in this manner) the right thing to try is factoring $n^4 + 4$ in some obvious way: \n",
    "Constants 1 and 4 or 2 and 2. \n",
    "\n",
    "\n",
    "$n^4 + 4 = (n^2 + a \\cdot n + 2) (n^2 + b \\cdot n + 2)$\n",
    "\n",
    "\n",
    "This gives $n^4 + b \\cdot n^3 + 2 n^2 + a \\cdot n^3 + a \\cdot b \\cdot n^2 + 2 \\cdot a \\cdot n + 2 n^2 + 2 \\cdot b \\cdot n + 4$\n",
    "\n",
    "\n",
    "$n^4 + 4$ plus stuff that needs to be zero: $(b + a)\\cdot n^3 + (4 + a \\cdot b)\\cdot n^2 + (2 \\cdot (a + b))\\cdot n$\n",
    "\n",
    "\n",
    "This means $a = -b$ and $a \\cdot b = -4$. Great: $a = 2$ and $b = -2$. \n",
    "\n",
    "\n",
    "$n^4 + 4 = (n^2 + 2n + 2)(n^2 - 2n + 2)\\;\\;\\;\\;\\boxdot$"
   ]
  },
  {
   "cell_type": "code",
   "execution_count": 11,
   "metadata": {},
   "outputs": [
    {
     "name": "stdout",
     "output_type": "stream",
     "text": [
      "629 factors are [17, 37]\n",
      "50629 factors are [197, 257]\n",
      "390629 factors are [577, 677]\n"
     ]
    }
   ],
   "source": [
    "def pf(n):\n",
    "    pfn, i = [], 2\n",
    "    while i * i < n:\n",
    "        while n%i == 0: pfn.append(i); n = n / i\n",
    "        i = i + 1\n",
    "    pfn.append(int(n))\n",
    "    return pfn\n",
    "\n",
    "def npf(n): return len(pf(n))\n",
    "\n",
    "def isprime(n): \n",
    "    if npf(n) == 1: return True\n",
    "    return False\n",
    "\n",
    "for a in range(3):\n",
    "    s = a * 10 + 5\n",
    "    t = s*s*s*s + 4\n",
    "    if isprime(t): print(str(t) + ' is prime') \n",
    "    else: print(str(t) + ' factors are ' + str(pf(t)))"
   ]
  },
  {
   "cell_type": "markdown",
   "metadata": {},
   "source": [
    "..."
   ]
  },
  {
   "cell_type": "markdown",
   "metadata": {},
   "source": [
    "...\n",
    "\n",
    "(20) Let $d = (826, 1890)$. Use the Euclidean algorithm to compute $d$, then express $d$ as a linear combination of 826 and 1890\n",
    "\n",
    "Solution\n",
    "\n",
    "$1890 = 826 \\cdot 2 + 238$\n",
    "\n",
    "$826 = 238 \\cdot 3 + 112$\n",
    "\n",
    "$238 = 112 \\cdot 2 + 14$\n",
    "\n",
    "$112 = 14 \\cdot 8 + 0$\n",
    "\n",
    "$d = 14$\n",
    "\n",
    "$d = u \\cdot 826 + v \\cdot 1890$ or equivalently $1 = u \\cdot 59 + v \\cdot 135$\n",
    "\n",
    "Taking $u$ positive it can take on values ${ 4, 9, 14, 19, \\dots }$.\n",
    "\n",
    "*--a miracle occurs--*\n",
    "\n",
    "$(d = 14) = 254 \\cdot 826 - 111 \\cdot 1890$"
   ]
  },
  {
   "cell_type": "code",
   "execution_count": 1,
   "metadata": {},
   "outputs": [
    {
     "data": {
      "text/plain": [
       "14"
      ]
     },
     "execution_count": 1,
     "metadata": {},
     "output_type": "execute_result"
    }
   ],
   "source": [
    "254*826-111*1890"
   ]
  },
  {
   "cell_type": "markdown",
   "metadata": {},
   "source": [
    "...\n",
    "\n",
    "\n",
    "(19) F = 1, 1, 2, 3, 5, 8, ... where $\\;a_{n+1} = a_n + a_{n-1}$. Prove $(a_n, \\; a_{n+1})\\;=\\;1$. \n",
    "\n",
    "\n",
    "(20)\n",
    "\n",
    "\n",
    "(21)\n",
    "\n",
    "\n",
    "(22) Prove (a, b) = (a + b, [a, b]).\n",
    "\n",
    "\n",
    "(23) Find $a, b > 0 \\;\\; \\ni \\;\\; a + b = 5264 \\; and \\; [a, b] = 200,340$. \n",
    "\n",
    "\n",
    "...\n",
    "\n",
    "\n",
    "(30) If $n > 1$ prove \n",
    "\n",
    "\n",
    "$\n",
    "\\begin{align}\n",
    "\\sum_{k=1}^{n} \\frac{1}{k}\n",
    "\\end{align}\n",
    "$\n",
    "\n",
    "\n",
    "is not an integer."
   ]
  }
 ],
 "metadata": {
  "kernelspec": {
   "display_name": "Python 3",
   "language": "python",
   "name": "python3"
  },
  "language_info": {
   "codemirror_mode": {
    "name": "ipython",
    "version": 3
   },
   "file_extension": ".py",
   "mimetype": "text/x-python",
   "name": "python",
   "nbconvert_exporter": "python",
   "pygments_lexer": "ipython3",
   "version": "3.7.3"
  }
 },
 "nbformat": 4,
 "nbformat_minor": 4
}
