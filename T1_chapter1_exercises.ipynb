{
 "cells": [
  {
   "cell_type": "markdown",
   "metadata": {},
   "source": [
    "Prove that for integers $a,\\;b,\\;\\dots$\n",
    "\n",
    "$(a, b) = 1, \\; c | a, \\; d | a \\implies (c, d) = 1$\n",
    "\n",
    "$(a, b) = (a, c) = 1 \\implies (a, bc) = 1$\n",
    "\n",
    "$(a, b) = 1 \\implies (a^n, b^k) = 1 \\; \\; \\forall \\; \\; n \\ge 1, k \\ge 1$\n",
    "\n",
    "$(a, b) = 1 \\implies (a + b, a - b) = 1 \\; or \\; 2$\n",
    "\n",
    "$(a, b) = 1 \\implies (a + b, a^2 - ab + b^2) = 1 \\; or \\; 3$\n",
    "\n",
    "$(a, b) = 1, \\; d|(a + b) \\implies (a, d) = (b, d) = 1$"
   ]
  },
  {
   "cell_type": "code",
   "execution_count": null,
   "metadata": {},
   "outputs": [],
   "source": []
  }
 ],
 "metadata": {
  "kernelspec": {
   "display_name": "Python 3",
   "language": "python",
   "name": "python3"
  },
  "language_info": {
   "codemirror_mode": {
    "name": "ipython",
    "version": 3
   },
   "file_extension": ".py",
   "mimetype": "text/x-python",
   "name": "python",
   "nbconvert_exporter": "python",
   "pygments_lexer": "ipython3",
   "version": "3.7.3"
  }
 },
 "nbformat": 4,
 "nbformat_minor": 4
}
