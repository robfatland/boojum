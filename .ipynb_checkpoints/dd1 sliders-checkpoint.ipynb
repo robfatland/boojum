{
 "cells": [
  {
   "cell_type": "code",
   "execution_count": 1,
   "metadata": {},
   "outputs": [],
   "source": [
    "%matplotlib inline\n",
    "import timeit, pandas as pd, numpy as np, sys, os\n",
    "from datetime import timedelta, datetime\n",
    "from matplotlib import pyplot as plt, dates as mdates\n",
    "from numpy import datetime64 as dt64, timedelta64 as td64\n",
    "from scipy import stats\n",
    "from random import randint\n",
    "from ipywidgets import *\n",
    "from traitlets import dlink\n",
    "np.warnings.filterwarnings('ignore')"
   ]
  },
  {
   "cell_type": "code",
   "execution_count": 43,
   "metadata": {},
   "outputs": [
    {
     "data": {
      "application/vnd.jupyter.widget-view+json": {
       "model_id": "99bd9442117f414baaa98bbf8cb0c0a0",
       "version_major": 2,
       "version_minor": 0
      },
      "text/plain": [
       "interactive(children=(IntSlider(value=3, continuous_update=False, description='how many...', max=8), Output())…"
      ]
     },
     "metadata": {},
     "output_type": "display_data"
    },
    {
     "data": {
      "text/plain": [
       "<function __main__.cplane(features)>"
      ]
     },
     "execution_count": 43,
     "metadata": {},
     "output_type": "execute_result"
    }
   ],
   "source": [
    "def c_axis_lines(p, a):\n",
    "    s = np.arange(-2., 2.1, 4.)\n",
    "    x = [ss for ss in s]; y = [0. for ss in s]; a.plot(x, y, color='k'); \n",
    "    x = [0. for ss in s]; y = [ss for ss in s]; a.plot(x, y, color='k')    \n",
    "\n",
    "def c_axis_tics(p, a):\n",
    "    delta_tic = 0.04; delta_fid = 0.2\n",
    "    s = np.arange(-delta_tic, delta_tic + .0001, 2*delta_tic)\n",
    "    for xc in np.arange(-2., 2. + delta_fid, delta_fid):\n",
    "        x, y = [xc for ss in s], [ss for ss in s]; a.plot(x, y)\n",
    "    for yc in np.arange(-2., 2. + delta_fid, delta_fid):\n",
    "        x, y = [ss for ss in s], [yc for ss in s]; a.plot(x, y)\n",
    "\n",
    "def c_axis_unit_circle(p, a):\n",
    "    delta_theta = 0.02\n",
    "    theta = np.arange(0., 2*np.pi + delta_theta, delta_theta)\n",
    "    x, y = [np.cos(th) for th in theta], [np.sin(th) for th in theta]\n",
    "    a.plot(x, y, color='lightblue')    \n",
    "    \n",
    "def cplane(features):\n",
    "    p,a=plt.subplots(1, figsize=(10,10))\n",
    "    if features > 0: c_axis_lines(p, a)\n",
    "    if features > 1: c_axis_tics(p, a)\n",
    "    if features > 2: c_axis_unit_circle(p, a)\n",
    "    a.axis(\"equal\")\n",
    "\n",
    "interact(cplane, features = widgets.IntSlider(min = 0, max = 8, step = 1, \\\n",
    "                                              value = 3, continuous_update = False, \\\n",
    "                                              description='how many...'))"
   ]
  },
  {
   "cell_type": "code",
   "execution_count": 53,
   "metadata": {},
   "outputs": [
    {
     "data": {
      "image/png": "[encoded data removed]",
      "text/plain": [
       "<Figure size 720x720 with 1 Axes>"
      ]
     },
     "metadata": {
      "needs_background": "light"
     },
     "output_type": "display_data"
    },
    {
     "data": {
      "application/vnd.jupyter.widget-view+json": {
       "model_id": "2e0db096b1c14ba4b5981932b9e73840",
       "version_major": 2,
       "version_minor": 0
      },
      "text/plain": [
       "interactive(children=(IntSlider(value=0, continuous_update=False, description='step'), Output()), _dom_classes…"
      ]
     },
     "metadata": {},
     "output_type": "display_data"
    },
    {
     "data": {
      "text/plain": [
       "<function __main__.square_c(step)>"
      ]
     },
     "execution_count": 53,
     "metadata": {},
     "output_type": "execute_result"
    }
   ],
   "source": [
    "p,a = plt.subplots(1, figsize=(10,10))\n",
    "c_axis_lines(p, a)\n",
    "c_axis_tics(p, a)\n",
    "c_axis_unit_circle(p, a)\n",
    "\n",
    "def square_c(step):\n",
    "    p,a=plt.subplots()\n",
    "    xg, yg = np.arange(-1.8, 2.0, 0.2), np.arange(-1.8, 2.0, 0.2)\n",
    "    dx = 0.01\n",
    "    dy = -0.001\n",
    "    x = [-1.2 + dx*step]\n",
    "    y = [.7 + dy*step]\n",
    "    a.scatter(x, y, color='red')\n",
    "    a.axis(\"equal\")\n",
    "    \n",
    "interact(square_c, step = widgets.IntSlider(min = 0, max = 100, step = 1, value = 0, \\\n",
    "                                                continuous_update = False, description='step'))"
   ]
  },
  {
   "cell_type": "code",
   "execution_count": null,
   "metadata": {},
   "outputs": [],
   "source": []
  }
 ],
 "metadata": {
  "kernelspec": {
   "display_name": "Python 3",
   "language": "python",
   "name": "python3"
  },
  "language_info": {
   "codemirror_mode": {
    "name": "ipython",
    "version": 3
   },
   "file_extension": ".py",
   "mimetype": "text/x-python",
   "name": "python",
   "nbconvert_exporter": "python",
   "pygments_lexer": "ipython3",
   "version": "3.7.1"
  }
 },
 "nbformat": 4,
 "nbformat_minor": 2
}
